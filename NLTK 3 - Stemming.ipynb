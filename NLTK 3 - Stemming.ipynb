{
 "cells": [
  {
   "cell_type": "markdown",
   "metadata": {},
   "source": [
    "# Following Along YouTube Tutorial"
   ]
  },
  {
   "cell_type": "code",
   "execution_count": 9,
   "metadata": {},
   "outputs": [],
   "source": [
    "# Import \n",
    "\n",
    "from nltk.stem import PorterStemmer\n",
    "from nltk.tokenize import word_tokenize"
   ]
  },
  {
   "cell_type": "code",
   "execution_count": 10,
   "metadata": {},
   "outputs": [],
   "source": [
    "# initlaize \n",
    "\n",
    "stemmer = PorterStemmer()"
   ]
  },
  {
   "cell_type": "code",
   "execution_count": 26,
   "metadata": {},
   "outputs": [],
   "source": [
    "# Create an example.\n",
    "\n",
    "example = \"I was awarded multiple times during my graduate MMAI studies. I come from a biophysics background with a strong foundation in mathematics, statistics, and probability with extensive expertise in quantitative data analysis and statistical modeling and hands-on experience. Most recently, I was responsible for building end-to-end machine learning pipeline models for the telecommunication sector, reaching millions and millions of people across north america and generate great lifts for business\""
   ]
  },
  {
   "cell_type": "code",
   "execution_count": 27,
   "metadata": {},
   "outputs": [],
   "source": [
    "# Tokenize text\n",
    "\n",
    "token_text = word_tokenize(example)\n",
    "    "
   ]
  },
  {
   "cell_type": "code",
   "execution_count": 28,
   "metadata": {},
   "outputs": [],
   "source": [
    "words = []\n",
    "for word in token_text:\n",
    "    words.append(stemmer.stem(word))"
   ]
  },
  {
   "cell_type": "code",
   "execution_count": 30,
   "metadata": {},
   "outputs": [
    {
     "name": "stdout",
     "output_type": "stream",
     "text": [
      "['I', 'was', 'awarded', 'multiple', 'times', 'during', 'my', 'graduate', 'MMAI', 'studies', '.', 'I', 'come', 'from', 'a', 'biophysics', 'background', 'with', 'a', 'strong', 'foundation', 'in', 'mathematics', ',', 'statistics', ',', 'and', 'probability', 'with', 'extensive', 'expertise', 'in', 'quantitative', 'data', 'analysis', 'and', 'statistical', 'modeling', 'and', 'hands-on', 'experience', '.', 'Most', 'recently', ',', 'I', 'was', 'responsible', 'for', 'building', 'end-to-end', 'machine', 'learning', 'pipeline', 'models', 'for', 'the', 'telecommunication', 'sector', ',', 'reaching', 'millions', 'and', 'millions', 'of', 'people', 'across', 'north', 'america', 'and', 'generate', 'great', 'lifts', 'for', 'business']\n",
      " \n",
      "Compare the Two texts\n",
      " \n",
      "['I', 'wa', 'award', 'multipl', 'time', 'dure', 'my', 'graduat', 'mmai', 'studi', '.', 'I', 'come', 'from', 'a', 'biophys', 'background', 'with', 'a', 'strong', 'foundat', 'in', 'mathemat', ',', 'statist', ',', 'and', 'probabl', 'with', 'extens', 'expertis', 'in', 'quantit', 'data', 'analysi', 'and', 'statist', 'model', 'and', 'hands-on', 'experi', '.', 'most', 'recent', ',', 'I', 'wa', 'respons', 'for', 'build', 'end-to-end', 'machin', 'learn', 'pipelin', 'model', 'for', 'the', 'telecommun', 'sector', ',', 'reach', 'million', 'and', 'million', 'of', 'peopl', 'across', 'north', 'america', 'and', 'gener', 'great', 'lift', 'for', 'busi']\n"
     ]
    }
   ],
   "source": [
    "print(word_token)\n",
    "print(\" \")\n",
    "print(\"Compare the Two texts\")\n",
    "print(\" \")\n",
    "print(words)"
   ]
  }
 ],
 "metadata": {
  "kernelspec": {
   "display_name": "Python 3",
   "language": "python",
   "name": "python3"
  },
  "language_info": {
   "codemirror_mode": {
    "name": "ipython",
    "version": 3
   },
   "file_extension": ".py",
   "mimetype": "text/x-python",
   "name": "python",
   "nbconvert_exporter": "python",
   "pygments_lexer": "ipython3",
   "version": "3.7.6"
  }
 },
 "nbformat": 4,
 "nbformat_minor": 4
}
